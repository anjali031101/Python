{
 "cells": [
  {
   "cell_type": "code",
   "execution_count": 1,
   "id": "bb4051f3",
   "metadata": {},
   "outputs": [
    {
     "data": {
      "text/plain": [
       "'hello'"
      ]
     },
     "execution_count": 1,
     "metadata": {},
     "output_type": "execute_result"
    }
   ],
   "source": [
    "'hello'"
   ]
  },
  {
   "cell_type": "code",
   "execution_count": 2,
   "id": "70173979",
   "metadata": {},
   "outputs": [
    {
     "data": {
      "text/plain": [
       "'hello'"
      ]
     },
     "execution_count": 2,
     "metadata": {},
     "output_type": "execute_result"
    }
   ],
   "source": [
    "\"hello\""
   ]
  },
  {
   "cell_type": "code",
   "execution_count": 3,
   "id": "e920b893",
   "metadata": {},
   "outputs": [],
   "source": [
    "a=\"hello\""
   ]
  },
  {
   "cell_type": "code",
   "execution_count": 4,
   "id": "f960ce6c",
   "metadata": {},
   "outputs": [
    {
     "ename": "TypeError",
     "evalue": "string indices must be integers",
     "output_type": "error",
     "traceback": [
      "\u001b[1;31m---------------------------------------------------------------------------\u001b[0m",
      "\u001b[1;31mTypeError\u001b[0m                                 Traceback (most recent call last)",
      "\u001b[1;32m<ipython-input-4-fecb0fa729c3>\u001b[0m in \u001b[0;36m<module>\u001b[1;34m\u001b[0m\n\u001b[1;32m----> 1\u001b[1;33m \u001b[0ma\u001b[0m\u001b[1;33m[\u001b[0m\u001b[1;36m0\u001b[0m\u001b[1;33m,\u001b[0m\u001b[1;36m4\u001b[0m\u001b[1;33m,\u001b[0m\u001b[1;36m2\u001b[0m\u001b[1;33m]\u001b[0m\u001b[1;33m\u001b[0m\u001b[1;33m\u001b[0m\u001b[0m\n\u001b[0m",
      "\u001b[1;31mTypeError\u001b[0m: string indices must be integers"
     ]
    }
   ],
   "source": [
    "a[0,4,2]"
   ]
  },
  {
   "cell_type": "code",
   "execution_count": 5,
   "id": "17fc8fb0",
   "metadata": {},
   "outputs": [
    {
     "data": {
      "text/plain": [
       "'this is also a string'"
      ]
     },
     "execution_count": 5,
     "metadata": {},
     "output_type": "execute_result"
    }
   ],
   "source": [
    "'this is also a string'"
   ]
  },
  {
   "cell_type": "code",
   "execution_count": 6,
   "id": "4d02eea8",
   "metadata": {},
   "outputs": [
    {
     "data": {
      "text/plain": [
       "\"I'm going on a run\""
      ]
     },
     "execution_count": 6,
     "metadata": {},
     "output_type": "execute_result"
    }
   ],
   "source": [
    "\"I'm going on a run\""
   ]
  },
  {
   "cell_type": "code",
   "execution_count": 7,
   "id": "8e5bb115",
   "metadata": {},
   "outputs": [
    {
     "name": "stdout",
     "output_type": "stream",
     "text": [
      "hello\n"
     ]
    }
   ],
   "source": [
    "print(\"hello\")"
   ]
  },
  {
   "cell_type": "code",
   "execution_count": 8,
   "id": "7ef01557",
   "metadata": {},
   "outputs": [
    {
     "data": {
      "text/plain": [
       "'hello world two'"
      ]
     },
     "execution_count": 8,
     "metadata": {},
     "output_type": "execute_result"
    }
   ],
   "source": [
    "\"hello world one\"\n",
    "\"hello world two\""
   ]
  },
  {
   "cell_type": "code",
   "execution_count": 9,
   "id": "60f4edd1",
   "metadata": {},
   "outputs": [
    {
     "name": "stdout",
     "output_type": "stream",
     "text": [
      "one\n",
      "two\n"
     ]
    }
   ],
   "source": [
    "print(\"one\")\n",
    "print(\"two\")"
   ]
  },
  {
   "cell_type": "code",
   "execution_count": 12,
   "id": "7710d173",
   "metadata": {},
   "outputs": [
    {
     "name": "stdout",
     "output_type": "stream",
     "text": [
      "hello \t world\n"
     ]
    }
   ],
   "source": [
    "print(\"hello \\t world\")"
   ]
  },
  {
   "cell_type": "code",
   "execution_count": 13,
   "id": "31b2a3c1",
   "metadata": {},
   "outputs": [
    {
     "data": {
      "text/plain": [
       "5"
      ]
     },
     "execution_count": 13,
     "metadata": {},
     "output_type": "execute_result"
    }
   ],
   "source": [
    "len(\"hello\")"
   ]
  },
  {
   "cell_type": "code",
   "execution_count": 14,
   "id": "1c551c5c",
   "metadata": {},
   "outputs": [
    {
     "data": {
      "text/plain": [
       "4"
      ]
     },
     "execution_count": 14,
     "metadata": {},
     "output_type": "execute_result"
    }
   ],
   "source": [
    "len('i am')"
   ]
  },
  {
   "cell_type": "code",
   "execution_count": 15,
   "id": "909f0b72",
   "metadata": {},
   "outputs": [
    {
     "name": "stdout",
     "output_type": "stream",
     "text": [
      "hello \b world\n"
     ]
    }
   ],
   "source": [
    "print(\"hello \\b world\")"
   ]
  },
  {
   "cell_type": "code",
   "execution_count": 16,
   "id": "415cf340",
   "metadata": {},
   "outputs": [],
   "source": [
    "mystirng=\"hello world\""
   ]
  },
  {
   "cell_type": "code",
   "execution_count": 17,
   "id": "15b45175",
   "metadata": {},
   "outputs": [
    {
     "ename": "NameError",
     "evalue": "name 'mystring' is not defined",
     "output_type": "error",
     "traceback": [
      "\u001b[1;31m---------------------------------------------------------------------------\u001b[0m",
      "\u001b[1;31mNameError\u001b[0m                                 Traceback (most recent call last)",
      "\u001b[1;32m<ipython-input-17-9eca6b482930>\u001b[0m in \u001b[0;36m<module>\u001b[1;34m\u001b[0m\n\u001b[1;32m----> 1\u001b[1;33m \u001b[0mmystring\u001b[0m\u001b[1;33m\u001b[0m\u001b[1;33m\u001b[0m\u001b[0m\n\u001b[0m",
      "\u001b[1;31mNameError\u001b[0m: name 'mystring' is not defined"
     ]
    }
   ],
   "source": [
    "mystring\n"
   ]
  },
  {
   "cell_type": "code",
   "execution_count": 18,
   "id": "2ab95e89",
   "metadata": {},
   "outputs": [],
   "source": [
    "mystring=\"hello world\""
   ]
  },
  {
   "cell_type": "code",
   "execution_count": 19,
   "id": "ed866840",
   "metadata": {},
   "outputs": [
    {
     "ename": "NameError",
     "evalue": "name 'myystring' is not defined",
     "output_type": "error",
     "traceback": [
      "\u001b[1;31m---------------------------------------------------------------------------\u001b[0m",
      "\u001b[1;31mNameError\u001b[0m                                 Traceback (most recent call last)",
      "\u001b[1;32m<ipython-input-19-b52675ffca27>\u001b[0m in \u001b[0;36m<module>\u001b[1;34m\u001b[0m\n\u001b[1;32m----> 1\u001b[1;33m \u001b[0mmyystring\u001b[0m\u001b[1;33m\u001b[0m\u001b[1;33m\u001b[0m\u001b[0m\n\u001b[0m",
      "\u001b[1;31mNameError\u001b[0m: name 'myystring' is not defined"
     ]
    }
   ],
   "source": [
    "myystring"
   ]
  },
  {
   "cell_type": "code",
   "execution_count": 20,
   "id": "20ce66e6",
   "metadata": {},
   "outputs": [
    {
     "data": {
      "text/plain": [
       "'hello world'"
      ]
     },
     "execution_count": 20,
     "metadata": {},
     "output_type": "execute_result"
    }
   ],
   "source": [
    "mystring"
   ]
  },
  {
   "cell_type": "code",
   "execution_count": 21,
   "id": "70a2286e",
   "metadata": {},
   "outputs": [
    {
     "data": {
      "text/plain": [
       "'h'"
      ]
     },
     "execution_count": 21,
     "metadata": {},
     "output_type": "execute_result"
    }
   ],
   "source": [
    "mystring[0]"
   ]
  },
  {
   "cell_type": "code",
   "execution_count": 22,
   "id": "f451a772",
   "metadata": {},
   "outputs": [
    {
     "data": {
      "text/plain": [
       "'r'"
      ]
     },
     "execution_count": 22,
     "metadata": {},
     "output_type": "execute_result"
    }
   ],
   "source": [
    "mystring[8]"
   ]
  },
  {
   "cell_type": "code",
   "execution_count": 23,
   "id": "f50fa42c",
   "metadata": {},
   "outputs": [
    {
     "ename": "IndexError",
     "evalue": "string index out of range",
     "output_type": "error",
     "traceback": [
      "\u001b[1;31m---------------------------------------------------------------------------\u001b[0m",
      "\u001b[1;31mIndexError\u001b[0m                                Traceback (most recent call last)",
      "\u001b[1;32m<ipython-input-23-8502467dc6db>\u001b[0m in \u001b[0;36m<module>\u001b[1;34m\u001b[0m\n\u001b[1;32m----> 1\u001b[1;33m \u001b[0mmystring\u001b[0m\u001b[1;33m[\u001b[0m\u001b[1;36m15\u001b[0m\u001b[1;33m]\u001b[0m\u001b[1;33m\u001b[0m\u001b[1;33m\u001b[0m\u001b[0m\n\u001b[0m",
      "\u001b[1;31mIndexError\u001b[0m: string index out of range"
     ]
    }
   ],
   "source": [
    "mystring[15]"
   ]
  },
  {
   "cell_type": "code",
   "execution_count": 25,
   "id": "c7a05051",
   "metadata": {},
   "outputs": [
    {
     "data": {
      "text/plain": [
       "'r'"
      ]
     },
     "execution_count": 25,
     "metadata": {},
     "output_type": "execute_result"
    }
   ],
   "source": [
    "mystring[-3]"
   ]
  },
  {
   "cell_type": "code",
   "execution_count": 26,
   "id": "89f425f1",
   "metadata": {},
   "outputs": [],
   "source": [
    "string='abcdefghijklmnopqrstuvwxyz'"
   ]
  },
  {
   "cell_type": "code",
   "execution_count": 27,
   "id": "f28d5bd6",
   "metadata": {},
   "outputs": [
    {
     "data": {
      "text/plain": [
       "'abcdefghijklmnopqrstuvwxyz'"
      ]
     },
     "execution_count": 27,
     "metadata": {},
     "output_type": "execute_result"
    }
   ],
   "source": [
    "string"
   ]
  },
  {
   "cell_type": "code",
   "execution_count": 28,
   "id": "eeabebe5",
   "metadata": {},
   "outputs": [
    {
     "data": {
      "text/plain": [
       "'fghijklmnopqrstuvwxyz'"
      ]
     },
     "execution_count": 28,
     "metadata": {},
     "output_type": "execute_result"
    }
   ],
   "source": [
    "string[5:]"
   ]
  },
  {
   "cell_type": "code",
   "execution_count": 29,
   "id": "8f2d50f0",
   "metadata": {},
   "outputs": [
    {
     "data": {
      "text/plain": [
       "'abcde'"
      ]
     },
     "execution_count": 29,
     "metadata": {},
     "output_type": "execute_result"
    }
   ],
   "source": [
    "string[:5]"
   ]
  },
  {
   "cell_type": "code",
   "execution_count": 30,
   "id": "6d480046",
   "metadata": {},
   "outputs": [
    {
     "data": {
      "text/plain": [
       "'zyxwvutsrqponmlkjihgfedcba'"
      ]
     },
     "execution_count": 30,
     "metadata": {},
     "output_type": "execute_result"
    }
   ],
   "source": [
    "string[::-1]"
   ]
  },
  {
   "cell_type": "code",
   "execution_count": 31,
   "id": "9b005bda",
   "metadata": {},
   "outputs": [
    {
     "data": {
      "text/plain": [
       "'acegikmoqsuwy'"
      ]
     },
     "execution_count": 31,
     "metadata": {},
     "output_type": "execute_result"
    }
   ],
   "source": [
    "string[::2]"
   ]
  },
  {
   "cell_type": "code",
   "execution_count": 32,
   "id": "887d0010",
   "metadata": {},
   "outputs": [
    {
     "data": {
      "text/plain": [
       "'cde'"
      ]
     },
     "execution_count": 32,
     "metadata": {},
     "output_type": "execute_result"
    }
   ],
   "source": [
    "string[2:5]"
   ]
  },
  {
   "cell_type": "code",
   "execution_count": 33,
   "id": "f45d888c",
   "metadata": {},
   "outputs": [
    {
     "data": {
      "text/plain": [
       "'abcdefghijklmnopqrstuvwxyz'"
      ]
     },
     "execution_count": 33,
     "metadata": {},
     "output_type": "execute_result"
    }
   ],
   "source": [
    "string"
   ]
  },
  {
   "cell_type": "code",
   "execution_count": 34,
   "id": "dbe88b37",
   "metadata": {},
   "outputs": [
    {
     "data": {
      "text/plain": [
       "'abcdefghijklmnopqrstuvwxyz'"
      ]
     },
     "execution_count": 34,
     "metadata": {},
     "output_type": "execute_result"
    }
   ],
   "source": [
    "string[::]"
   ]
  },
  {
   "cell_type": "code",
   "execution_count": 35,
   "id": "a396d9fa",
   "metadata": {},
   "outputs": [
    {
     "data": {
      "text/plain": [
       "'zxvtrpnljhfdb'"
      ]
     },
     "execution_count": 35,
     "metadata": {},
     "output_type": "execute_result"
    }
   ],
   "source": [
    "string[::-2]"
   ]
  },
  {
   "cell_type": "code",
   "execution_count": 36,
   "id": "fbbc1585",
   "metadata": {},
   "outputs": [],
   "source": [
    "name='sam'"
   ]
  },
  {
   "cell_type": "code",
   "execution_count": 37,
   "id": "5f969519",
   "metadata": {},
   "outputs": [
    {
     "data": {
      "text/plain": [
       "'sam'"
      ]
     },
     "execution_count": 37,
     "metadata": {},
     "output_type": "execute_result"
    }
   ],
   "source": [
    "name\n"
   ]
  },
  {
   "cell_type": "code",
   "execution_count": 38,
   "id": "afa39ff1",
   "metadata": {},
   "outputs": [
    {
     "data": {
      "text/plain": [
       "'am'"
      ]
     },
     "execution_count": 38,
     "metadata": {},
     "output_type": "execute_result"
    }
   ],
   "source": [
    "name[1:]"
   ]
  },
  {
   "cell_type": "code",
   "execution_count": 39,
   "id": "684d8d5f",
   "metadata": {},
   "outputs": [],
   "source": [
    "last=name[1:\n",
    "         ]"
   ]
  },
  {
   "cell_type": "code",
   "execution_count": 40,
   "id": "20d2892d",
   "metadata": {},
   "outputs": [
    {
     "data": {
      "text/plain": [
       "'am'"
      ]
     },
     "execution_count": 40,
     "metadata": {},
     "output_type": "execute_result"
    }
   ],
   "source": [
    "last"
   ]
  },
  {
   "cell_type": "code",
   "execution_count": 41,
   "id": "4d35c83a",
   "metadata": {},
   "outputs": [
    {
     "data": {
      "text/plain": [
       "'pam'"
      ]
     },
     "execution_count": 41,
     "metadata": {},
     "output_type": "execute_result"
    }
   ],
   "source": [
    "'p'+last"
   ]
  },
  {
   "cell_type": "code",
   "execution_count": 46,
   "id": "4241046e",
   "metadata": {},
   "outputs": [],
   "source": [
    "xx='hello world'"
   ]
  },
  {
   "cell_type": "code",
   "execution_count": 45,
   "id": "0f2bbc91",
   "metadata": {},
   "outputs": [],
   "source": [
    "xx=xx+\" is is beautiful\""
   ]
  },
  {
   "cell_type": "code",
   "execution_count": 51,
   "id": "8b63a7b8",
   "metadata": {},
   "outputs": [],
   "source": [
    "xx=xx+\" is is beautiful\""
   ]
  },
  {
   "cell_type": "code",
   "execution_count": 52,
   "id": "f9f91140",
   "metadata": {},
   "outputs": [
    {
     "data": {
      "text/plain": [
       "'hello world is is beautiful is is beautiful is is beautiful'"
      ]
     },
     "execution_count": 52,
     "metadata": {},
     "output_type": "execute_result"
    }
   ],
   "source": [
    "xx"
   ]
  },
  {
   "cell_type": "raw",
   "id": "c4f8a5a1",
   "metadata": {},
   "source": []
  },
  {
   "cell_type": "code",
   "execution_count": 53,
   "id": "a414f553",
   "metadata": {},
   "outputs": [],
   "source": [
    "letter='z'"
   ]
  },
  {
   "cell_type": "code",
   "execution_count": 54,
   "id": "9c941dd4",
   "metadata": {},
   "outputs": [
    {
     "data": {
      "text/plain": [
       "'zzzzzzzzzz'"
      ]
     },
     "execution_count": 54,
     "metadata": {},
     "output_type": "execute_result"
    }
   ],
   "source": [
    "letter*10"
   ]
  },
  {
   "cell_type": "code",
   "execution_count": 55,
   "id": "5205cb7f",
   "metadata": {},
   "outputs": [
    {
     "data": {
      "text/plain": [
       "'23'"
      ]
     },
     "execution_count": 55,
     "metadata": {},
     "output_type": "execute_result"
    }
   ],
   "source": [
    "'2'+'3'"
   ]
  },
  {
   "cell_type": "code",
   "execution_count": 56,
   "id": "b32e3dbf",
   "metadata": {},
   "outputs": [
    {
     "data": {
      "text/plain": [
       "5"
      ]
     },
     "execution_count": 56,
     "metadata": {},
     "output_type": "execute_result"
    }
   ],
   "source": [
    "2+3"
   ]
  },
  {
   "cell_type": "code",
   "execution_count": null,
   "id": "de19514b",
   "metadata": {},
   "outputs": [],
   "source": []
  },
  {
   "cell_type": "code",
   "execution_count": null,
   "id": "4a60b879",
   "metadata": {},
   "outputs": [],
   "source": []
  },
  {
   "cell_type": "code",
   "execution_count": 57,
   "id": "8f4f0145",
   "metadata": {},
   "outputs": [],
   "source": [
    "x='hello world'"
   ]
  },
  {
   "cell_type": "code",
   "execution_count": 58,
   "id": "302525fa",
   "metadata": {},
   "outputs": [
    {
     "data": {
      "text/plain": [
       "'HELLO WORLD'"
      ]
     },
     "execution_count": 58,
     "metadata": {},
     "output_type": "execute_result"
    }
   ],
   "source": [
    "x.upper()"
   ]
  },
  {
   "cell_type": "code",
   "execution_count": 59,
   "id": "2bc858a7",
   "metadata": {},
   "outputs": [
    {
     "data": {
      "text/plain": [
       "<function str.upper()>"
      ]
     },
     "execution_count": 59,
     "metadata": {},
     "output_type": "execute_result"
    }
   ],
   "source": [
    "x.upper"
   ]
  },
  {
   "cell_type": "code",
   "execution_count": 60,
   "id": "922bf6d2",
   "metadata": {},
   "outputs": [
    {
     "data": {
      "text/plain": [
       "'hello world'"
      ]
     },
     "execution_count": 60,
     "metadata": {},
     "output_type": "execute_result"
    }
   ],
   "source": [
    "x.lower()"
   ]
  },
  {
   "cell_type": "code",
   "execution_count": 61,
   "id": "5384e650",
   "metadata": {},
   "outputs": [
    {
     "data": {
      "text/plain": [
       "['hello', 'world']"
      ]
     },
     "execution_count": 61,
     "metadata": {},
     "output_type": "execute_result"
    }
   ],
   "source": [
    "x.split()"
   ]
  },
  {
   "cell_type": "code",
   "execution_count": 62,
   "id": "04c036b1",
   "metadata": {},
   "outputs": [],
   "source": [
    "x='hi this is a string'"
   ]
  },
  {
   "cell_type": "code",
   "execution_count": 63,
   "id": "5e64e382",
   "metadata": {},
   "outputs": [
    {
     "data": {
      "text/plain": [
       "['hi', 'this', 'is', 'a', 'string']"
      ]
     },
     "execution_count": 63,
     "metadata": {},
     "output_type": "execute_result"
    }
   ],
   "source": [
    "x.split()"
   ]
  },
  {
   "cell_type": "code",
   "execution_count": 64,
   "id": "f448c544",
   "metadata": {},
   "outputs": [
    {
     "ename": "NameError",
     "evalue": "name 'i' is not defined",
     "output_type": "error",
     "traceback": [
      "\u001b[1;31m---------------------------------------------------------------------------\u001b[0m",
      "\u001b[1;31mNameError\u001b[0m                                 Traceback (most recent call last)",
      "\u001b[1;32m<ipython-input-64-9e9c14f74bad>\u001b[0m in \u001b[0;36m<module>\u001b[1;34m\u001b[0m\n\u001b[1;32m----> 1\u001b[1;33m \u001b[0mx\u001b[0m\u001b[1;33m.\u001b[0m\u001b[0msplit\u001b[0m\u001b[1;33m(\u001b[0m\u001b[0mi\u001b[0m\u001b[1;33m)\u001b[0m\u001b[1;33m\u001b[0m\u001b[1;33m\u001b[0m\u001b[0m\n\u001b[0m",
      "\u001b[1;31mNameError\u001b[0m: name 'i' is not defined"
     ]
    }
   ],
   "source": [
    "x.split(i)"
   ]
  },
  {
   "cell_type": "code",
   "execution_count": 65,
   "id": "04988fca",
   "metadata": {},
   "outputs": [
    {
     "data": {
      "text/plain": [
       "['h', ' th', 's ', 's a str', 'ng']"
      ]
     },
     "execution_count": 65,
     "metadata": {},
     "output_type": "execute_result"
    }
   ],
   "source": [
    "x.split('i')"
   ]
  },
  {
   "cell_type": "code",
   "execution_count": 66,
   "id": "22ce0649",
   "metadata": {},
   "outputs": [
    {
     "name": "stdout",
     "output_type": "stream",
     "text": [
      "hello\n"
     ]
    }
   ],
   "source": [
    "print('hello')"
   ]
  },
  {
   "cell_type": "markdown",
   "id": "ebfc4505",
   "metadata": {},
   "source": [
    "Formatting with .format() method\n"
   ]
  },
  {
   "cell_type": "code",
   "execution_count": 67,
   "id": "cf1ef8b7",
   "metadata": {},
   "outputs": [
    {
     "name": "stdout",
     "output_type": "stream",
     "text": [
      "this is a string inserted\n"
     ]
    }
   ],
   "source": [
    "print(\"this is a string {}\".format('inserted'))"
   ]
  },
  {
   "cell_type": "code",
   "execution_count": 69,
   "id": "b97ec5e3",
   "metadata": {},
   "outputs": [
    {
     "name": "stdout",
     "output_type": "stream",
     "text": [
      "the fox brown quick\n"
     ]
    }
   ],
   "source": [
    "print(\"the {} {} {}\".format('fox','brown','quick'))"
   ]
  },
  {
   "cell_type": "code",
   "execution_count": 70,
   "id": "ad858280",
   "metadata": {},
   "outputs": [
    {
     "name": "stdout",
     "output_type": "stream",
     "text": [
      "The quick fox brown\n"
     ]
    }
   ],
   "source": [
    "print(\"The {2} {0} {1}\".format('fox','brown','quick'))"
   ]
  },
  {
   "cell_type": "code",
   "execution_count": 71,
   "id": "972f8f17",
   "metadata": {},
   "outputs": [
    {
     "name": "stdout",
     "output_type": "stream",
     "text": [
      "The quick fox fox\n"
     ]
    }
   ],
   "source": [
    "print(\"The {2} {0} {0}\".format('fox','brown','quick'))"
   ]
  },
  {
   "cell_type": "code",
   "execution_count": 72,
   "id": "3684f503",
   "metadata": {},
   "outputs": [
    {
     "name": "stdout",
     "output_type": "stream",
     "text": [
      "The fox fox fox\n"
     ]
    }
   ],
   "source": [
    "print(\"The {0} {0} {0}\".format('fox','brown','quick'))"
   ]
  },
  {
   "cell_type": "code",
   "execution_count": 74,
   "id": "a5c94890",
   "metadata": {},
   "outputs": [
    {
     "name": "stdout",
     "output_type": "stream",
     "text": [
      "The quick brown fox\n"
     ]
    }
   ],
   "source": [
    "print(\"The {q} {b} {f}\".format(f='fox',b='brown',q='quick'))"
   ]
  },
  {
   "cell_type": "markdown",
   "id": "97f7ce4f",
   "metadata": {},
   "source": [
    "Float formatting"
   ]
  },
  {
   "cell_type": "code",
   "execution_count": null,
   "id": "565da286",
   "metadata": {},
   "outputs": [],
   "source": []
  },
  {
   "cell_type": "code",
   "execution_count": null,
   "id": "2b267340",
   "metadata": {},
   "outputs": [],
   "source": []
  },
  {
   "cell_type": "code",
   "execution_count": null,
   "id": "5dafcdea",
   "metadata": {},
   "outputs": [],
   "source": []
  },
  {
   "cell_type": "code",
   "execution_count": 75,
   "id": "f64a8828",
   "metadata": {},
   "outputs": [],
   "source": [
    "result=100/777"
   ]
  },
  {
   "cell_type": "code",
   "execution_count": 76,
   "id": "bebda6f0",
   "metadata": {},
   "outputs": [
    {
     "data": {
      "text/plain": [
       "0.1287001287001287"
      ]
     },
     "execution_count": 76,
     "metadata": {},
     "output_type": "execute_result"
    }
   ],
   "source": [
    "result"
   ]
  },
  {
   "cell_type": "code",
   "execution_count": 77,
   "id": "47a1bbab",
   "metadata": {},
   "outputs": [
    {
     "name": "stdout",
     "output_type": "stream",
     "text": [
      "the result was 0.1287001287001287\n"
     ]
    }
   ],
   "source": [
    "print(\"the result was {}\".format(result))"
   ]
  },
  {
   "cell_type": "code",
   "execution_count": 78,
   "id": "b920eb03",
   "metadata": {},
   "outputs": [
    {
     "name": "stdout",
     "output_type": "stream",
     "text": [
      "the result was 0.129\n"
     ]
    }
   ],
   "source": [
    "print(\"the result was {r:1.3f}\".format(r=result))"
   ]
  },
  {
   "cell_type": "code",
   "execution_count": 79,
   "id": "db380ed1",
   "metadata": {},
   "outputs": [
    {
     "name": "stdout",
     "output_type": "stream",
     "text": [
      "the result was 0.1287001287001287\n"
     ]
    }
   ],
   "source": [
    "print(\"the result was {r:10}\".format(r=result))"
   ]
  },
  {
   "cell_type": "code",
   "execution_count": 80,
   "id": "2e463cf6",
   "metadata": {},
   "outputs": [
    {
     "name": "stdout",
     "output_type": "stream",
     "text": [
      "the result was 0.129\n"
     ]
    }
   ],
   "source": [
    "print(\"the result was {r:5.3}\".format(r=result))"
   ]
  },
  {
   "cell_type": "code",
   "execution_count": 81,
   "id": "dcade7ae",
   "metadata": {},
   "outputs": [],
   "source": [
    "result=104.12345"
   ]
  },
  {
   "cell_type": "code",
   "execution_count": 82,
   "id": "56aef522",
   "metadata": {},
   "outputs": [
    {
     "name": "stdout",
     "output_type": "stream",
     "text": [
      "the result was 1e+02\n"
     ]
    }
   ],
   "source": [
    "print(\"the result was {r:1.2}\".format(r=result))"
   ]
  },
  {
   "cell_type": "code",
   "execution_count": 83,
   "id": "087a1162",
   "metadata": {},
   "outputs": [
    {
     "name": "stdout",
     "output_type": "stream",
     "text": [
      "the result was 104.12\n"
     ]
    }
   ],
   "source": [
    "print(\"the result was {r:1.2f}\".format(r=result))"
   ]
  },
  {
   "cell_type": "code",
   "execution_count": null,
   "id": "40a81653",
   "metadata": {},
   "outputs": [],
   "source": []
  },
  {
   "cell_type": "code",
   "execution_count": null,
   "id": "d60e1ddf",
   "metadata": {},
   "outputs": [],
   "source": []
  },
  {
   "cell_type": "code",
   "execution_count": null,
   "id": "c16a2c28",
   "metadata": {},
   "outputs": [],
   "source": []
  },
  {
   "cell_type": "code",
   "execution_count": 84,
   "id": "86a5ccd0",
   "metadata": {},
   "outputs": [],
   "source": [
    "name=\"jose\""
   ]
  },
  {
   "cell_type": "code",
   "execution_count": 85,
   "id": "5a0e95e0",
   "metadata": {},
   "outputs": [
    {
     "name": "stdout",
     "output_type": "stream",
     "text": [
      "hello jose\n"
     ]
    }
   ],
   "source": [
    "print(\"hello {}\".format(name))"
   ]
  },
  {
   "cell_type": "code",
   "execution_count": 86,
   "id": "055c2027",
   "metadata": {},
   "outputs": [
    {
     "name": "stdout",
     "output_type": "stream",
     "text": [
      "hello jose\n"
     ]
    }
   ],
   "source": [
    "print(f\"hello {name}\")"
   ]
  },
  {
   "cell_type": "code",
   "execution_count": 87,
   "id": "9b4556b6",
   "metadata": {},
   "outputs": [],
   "source": [
    "nam=\"sam\"\n",
    "age=3"
   ]
  },
  {
   "cell_type": "code",
   "execution_count": 88,
   "id": "39c71529",
   "metadata": {},
   "outputs": [
    {
     "name": "stdout",
     "output_type": "stream",
     "text": [
      "jose is 3 years old\n"
     ]
    }
   ],
   "source": [
    "print(f'{name} is {age} years old')"
   ]
  },
  {
   "cell_type": "code",
   "execution_count": 89,
   "id": "033d98c7",
   "metadata": {},
   "outputs": [],
   "source": [
    "#this is fstring method"
   ]
  },
  {
   "cell_type": "code",
   "execution_count": null,
   "id": "ee2a8c35",
   "metadata": {},
   "outputs": [],
   "source": []
  }
 ],
 "metadata": {
  "kernelspec": {
   "display_name": "Python 3",
   "language": "python",
   "name": "python3"
  },
  "language_info": {
   "codemirror_mode": {
    "name": "ipython",
    "version": 3
   },
   "file_extension": ".py",
   "mimetype": "text/x-python",
   "name": "python",
   "nbconvert_exporter": "python",
   "pygments_lexer": "ipython3",
   "version": "3.8.8"
  }
 },
 "nbformat": 4,
 "nbformat_minor": 5
}
